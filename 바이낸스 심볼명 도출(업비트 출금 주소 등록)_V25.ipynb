{
 "cells": [
  {
   "cell_type": "code",
   "execution_count": 2,
   "metadata": {},
   "outputs": [
    {
     "name": "stdout",
     "output_type": "stream",
     "text": [
      "<class 'pyupbit.exchange_api.Upbit'>\n",
      "<module 'ccxt' from 'C:\\\\Users\\\\Happy\\\\anaconda3\\\\lib\\\\site-packages\\\\ccxt\\\\__init__.py'>\n",
      "Usdt = 1318.0\n",
      "<class 'pyupbit.exchange_api.Upbit'>\n",
      "<module 'ccxt' from 'C:\\\\Users\\\\Happy\\\\anaconda3\\\\lib\\\\site-packages\\\\ccxt\\\\__init__.py'>\n"
     ]
    }
   ],
   "source": [
    "#ck\n",
    "import datetime\n",
    "# import pytictoc\n",
    "import sys\n",
    "sys.setrecursionlimit(1000000)#재귀함수 제한 늘리기\n",
    "import pandas as pd\n",
    "import numpy as np\n",
    "import pip\n",
    "import pyupbit  # 업비트#버젼1.1.7\n",
    "print(pyupbit.Upbit)\n",
    "import ccxt  # 바이낸스\n",
    "print(ccxt)\n",
    "import pprint\n",
    "import time\n",
    "import math\n",
    "import sys\n",
    "import requests\n",
    "import json\n",
    "# api json 파싱 python 업비트\n",
    "import jwt  # PyJWT\n",
    "import uuid\n",
    "import requests\n",
    "from urllib.parse import urlencode\n",
    "from binance.client import Client # python-binance\n",
    "##@ 0.기본셋팅\n",
    "sicle = 0\n",
    "save_state = {}\n",
    "import binance\n",
    "import os\n",
    "import jwt\n",
    "import uuid\n",
    "import hashlib\n",
    "from urllib.parse import urlencode\n",
    "import requests\n",
    "from binance.client import Client\n",
    "########선물거래를 위해#######\n",
    "from binance_f import RequestClient\n",
    "from binance_f.constant.test import *\n",
    "from binance_f.base.printobject import *\n",
    "from binance_f.model.constant import *\n",
    "from IPython.display import display, clear_output\n",
    "from binance.spot import Spot #!pip install binance-connector\n",
    "\n",
    "# 암호키 가져옴.\n",
    "request_client = RequestClient(api_key=g_api_key, secret_key=g_secret_key)\n",
    "server_url = 'https://api.upbit.com'\n",
    "##############################소수점 정리....##############################################\n",
    "\n",
    "##@@@ 이 두개도 합치기\n",
    "\n",
    "\n",
    "###########업비트에서 환율 조회\n",
    "\n",
    "\n",
    "headers = {\n",
    "    'User-Agent': 'Mozilla/5.0 (Macintosh; Intel Mac OS X 10_11_5) AppleWebKit/537.36 (KHTML, like Gecko) Chrome/50.0.2661.102 Safari/537.36'}\n",
    "def upbit_get_usd_krw():\n",
    "    try:\n",
    "        url = 'https://quotation-api-cdn.dunamu.com/v1/forex/recent?codes=FRX.KRWUSD'\n",
    "        exchange =requests.get(url, headers=headers).json()\n",
    "        return exchange[0]['basePrice']\n",
    "    except:\n",
    "        pass\n",
    "\n",
    "Usdt = upbit_get_usd_krw()\n",
    "# Usdt = 1170\n",
    "print(\"Usdt =\", Usdt)\n",
    "import pickle\n",
    "# import pytictoc\n",
    "import sys\n",
    "sys.setrecursionlimit(1000000)#재귀함수 제한 늘리기\n",
    "import pyupbit  # 업비트#버젼1.1.7\n",
    "print(pyupbit.Upbit)\n",
    "import ccxt  # 바이낸스\n",
    "print(ccxt)\n",
    "import time\n",
    "import requests\n",
    "from binance.client import Client\n",
    "########선물거래를 위해#######\n",
    "from binance_f import RequestClient\n",
    "from binance_f.constant.test import *\n",
    "from binance.spot import Spot #!pip install binance-connector\n",
    "\n",
    "\n",
    "\n",
    "\n",
    "###########업비트에서 환율 조회\n",
    "\n",
    "\n",
    "headers = {\n",
    "    'User-Agent': 'Mozilla/5.0 (Macintosh; Intel Mac OS X 10_11_5) AppleWebKit/537.36 (KHTML, like Gecko) Chrome/50.0.2661.102 Safari/537.36'}\n",
    "def upbit_get_usd_krw():\n",
    "    try:\n",
    "        url = 'https://quotation-api-cdn.dunamu.com/v1/forex/recent?codes=FRX.KRWUSD'\n",
    "        exchange =requests.get(url, headers=headers).json()\n",
    "        return exchange[0]['basePrice']\n",
    "    except:\n",
    "        pass\n",
    "\n",
    "def removeAllOccur(l, i):\n",
    "    try:\n",
    "        while True: l.remove(i)\n",
    "    except ValueError:\n",
    "        pass\n",
    "\n",
    "def sym_intersection():\n",
    "    ######바이낸스 달러 선물가능 심볼명#####\n",
    "    bin_fu_sym = client.futures_symbol_ticker()\n",
    "    for i in range(len(bin_fu_sym)):\n",
    "        if (bin_fu_sym[i]['symbol'][-4:] == 'USDT'):\n",
    "            bin_fu_sym[i] = bin_fu_sym[i]['symbol'][:-4]\n",
    "        else:\n",
    "            bin_fu_sym[i] = 'remove'\n",
    "    removeAllOccur(bin_fu_sym, 'remove')\n",
    "    ########################################\n",
    "    #####바이낸스 달러 현물가능 코인 심볼명#USDT만 찾기 #####\n",
    "    bin_sym = client.get_symbol_ticker()\n",
    "\n",
    "    for i in range(len(bin_sym)):\n",
    "        if (bin_sym[i]['symbol'][-4:] == 'USDT'):\n",
    "            bin_sym[i] = bin_sym[i]['symbol'][:-4]\n",
    "        else:\n",
    "            bin_sym[i] = 'remove'\n",
    "    removeAllOccur(bin_sym, 'remove')\n",
    "    ########################################################\n",
    "    ######업비트 코인 심볼명########\n",
    "    up_sym = pyupbit.get_tickers(fiat=\"KRW\")\n",
    "    for i in range(len(up_sym)):\n",
    "        # tickers[i].replace('KRW-','')\n",
    "        up_sym[i] = up_sym[i][4:]\n",
    "    #################################\n",
    "    ######심볼명 교집합#####\n",
    "    # sym_name = list(set(bin_sym) & set(up_sym))  # @\n",
    "    sym_name = list(set(bin_fu_sym) & set(bin_sym) & set(up_sym))\n",
    "    print(len(sym_name), len(sym_name))  # 선물없이 업비트만해선..\n",
    "    return sym_name\n",
    "\n",
    "def regester_by_upbit_withdrow_addres(sym_name):\n",
    "    error_sym_name = []\n",
    "    for i in range(len(sym_name)):\n",
    "#         print(sym_name[i])\n",
    "        try:\n",
    "            bin_address = client_spot.deposit_address(sym_name[i])['address']\n",
    "            bin_Memo = client_spot.deposit_address(sym_name[i])['tag']\n",
    "            time.sleep(0.1)\n",
    "            print(sym_name[i])\n",
    "            print('bin_address', bin_address)\n",
    "            print('bin_Memo', bin_Memo)\n",
    "        except:\n",
    "            print(sym_name[i],\"바이낸스 지갑이 닫혔을 수도 있음\")\n",
    "            error_sym_name.append(sym_name[i])\n",
    "    return error_sym_name\n",
    "\n",
    "def delet_None_network(all_coin_info, sym_name):\n",
    "    delet_list = []\n",
    "    delet_list_append = delet_list.append\n",
    "    for i in range(len(sym_name)):  # 바이낸스에서 전송\n",
    "        withdrawfee = bin_coin_withdrow_fee(all_coin_info, sym_name[i])\n",
    "        #         print(sym_name[i],withdrawfee)\n",
    "        if (withdrawfee == \"None_network\"):\n",
    "            delet_list_append(sym_name[i])\n",
    "    name = list(set(sym_name) - set(delet_list))\n",
    "    return name\n",
    "\n",
    "def bin_coin_withdrow_fee(all_coin_info, sym_name):\n",
    "    try:\n",
    "        aa = next((item for item in all_coin_info if item['coin'] == sym_name), None)['networkList']\n",
    "        withdrawfee = float(next((item for item in aa if item['network'] == sym_name), None)['withdrawFee'])\n",
    "        return withdrawfee\n",
    "    except:\n",
    "        withdrawfee = \"None_network\"\n",
    "        return withdrawfee\n",
    "        pass\n",
    "\n",
    "# apikeys = {\n",
    "# 'up_access_key' : \"MH2PQbisKeHrDp0pcZjgxDeXAJiSHD00fl444Dp7\" ,\n",
    "# 'up_secret_key' : \"pjoyZOfsNKT9txcWgYXFx0UO3oU8s2F8XVNxA86b\",\n",
    "# 'bin_access_key' : \"SE4VoeIa2ObXkxooN2NcYJhv0FYBgffmbsn9ODtqXtteY9gs2eX8L1adyYAyC8Im\" ,\n",
    "# 'bin_secret_key' : \"1MPys7009oUtxGO5BjLB9quBtsBK5Dk54ooVIRLARpTLTy2x0IxFZqcIewNvmMCn\"\n",
    "# }\n",
    "#\n",
    "# #api 키 값 저장\n",
    "# with open('apikeys.pickle','wb') as fw:\n",
    "#     pickle.dump(apikeys, fw)\n"
   ]
  },
  {
   "cell_type": "markdown",
   "metadata": {},
   "source": [
    "@ api 키 값 저장"
   ]
  },
  {
   "cell_type": "code",
   "execution_count": 3,
   "metadata": {},
   "outputs": [],
   "source": [
    "import pickle\n",
    "\n",
    "apikeys = {\n",
    "'up_access_key' : \"lAiFabNrW3auPT0ByIOctmIxOkG6H6rPXVLHxT6O\",\n",
    "'up_secret_key' : \"KU3nyotokIlixiqx8TWexLtyoxGUZwukFxHHyRI4\",\n",
    "'bin_access_key' : \"SE4VoeIa2ObXkxooN2NcYJhv0FYBgffmbsn9ODtqXtteY9gs2eX8L1adyYAyC8Im \",\n",
    "'bin_secret_key' : \"1MPys7009oUtxGO5BjLB9quBtsBK5Dk54ooVIRLARpTLTy2x0IxFZqcIewNvmMCn \"\n",
    "}\n",
    "\n",
    "#api 키 값 저장\n",
    "with open('apikeys.pickle','wb') as fw:\n",
    "    pickle.dump(apikeys, fw)"
   ]
  },
  {
   "cell_type": "code",
   "execution_count": 4,
   "metadata": {},
   "outputs": [],
   "source": [
    "# api 키는 바이낸스와 unbit apikey에 저장해둔다\n",
    "# api 키 값 로드\n",
    "with open('apikeys.pickle', 'rb') as fr:\n",
    "    apikeys = pickle.load(fr)"
   ]
  },
  {
   "cell_type": "code",
   "execution_count": 5,
   "metadata": {},
   "outputs": [
    {
     "data": {
      "text/plain": [
       "{'up_access_key': 'lAiFabNrW3auPT0ByIOctmIxOkG6H6rPXVLHxT6O',\n",
       " 'up_secret_key': 'KU3nyotokIlixiqx8TWexLtyoxGUZwukFxHHyRI4',\n",
       " 'bin_access_key': 'SE4VoeIa2ObXkxooN2NcYJhv0FYBgffmbsn9ODtqXtteY9gs2eX8L1adyYAyC8Im ',\n",
       " 'bin_secret_key': '1MPys7009oUtxGO5BjLB9quBtsBK5Dk54ooVIRLARpTLTy2x0IxFZqcIewNvmMCn '}"
      ]
     },
     "execution_count": 5,
     "metadata": {},
     "output_type": "execute_result"
    }
   ],
   "source": [
    "apikeys"
   ]
  },
  {
   "cell_type": "code",
   "execution_count": 6,
   "metadata": {},
   "outputs": [
    {
     "name": "stdout",
     "output_type": "stream",
     "text": [
      "Usdt 1318.0\n"
     ]
    }
   ],
   "source": [
    "# 업비트 잔고 조회 및 해당 코인 가격에 맞는 가격 도출 기능\n",
    "access_key = apikeys['up_access_key']\n",
    "secret_key = apikeys['up_secret_key']\n",
    "upbit = pyupbit.Upbit(access_key, secret_key)\n",
    "\n",
    "# 바이낸스 잔고조회\n",
    "binance = ccxt.binance({\n",
    "    'apiKey': g_api_key,\n",
    "    'secret': g_secret_key})\n",
    "\n",
    "binance_fu = ccxt.binance({\n",
    "    'apiKey': g_api_key,\n",
    "    'secret': g_secret_key,\n",
    "    'options': {'defaultType': 'future'}})\n",
    "\n",
    "client_spot = Spot(key=g_api_key\n",
    "                   , secret=g_secret_key)\n",
    "\n",
    "client = Client(api_key=g_api_key,\n",
    "                api_secret=g_secret_key)\n",
    "\n",
    "Usdt = upbit_get_usd_krw()\n",
    "print('Usdt', Usdt)"
   ]
  },
  {
   "cell_type": "code",
   "execution_count": 7,
   "metadata": {},
   "outputs": [
    {
     "name": "stdout",
     "output_type": "stream",
     "text": [
      "총 자본 153682.32920870002\n",
      "0.82525708356074 업비드 자본(수수료 제외)\n"
     ]
    }
   ],
   "source": [
    "\n",
    "balance = binance.fetch_balance()  # free:보유중인 코인, used:거래진행중인 코인 total:전체코인\n",
    "print(\"총 자본\", upbit.get_balance(\"KRW\") + float(next((item for item in client.futures_account()['assets'] if item['asset'] == 'USDT'), None)['walletBalance']) * Usdt + balance['USDT']['free'] * Usdt)\n",
    "\n",
    "# 업비트 현물계좌 원화(현금) 확인\n",
    "# first_up_asset = 1000000\n",
    "first_up_asset = upbit.get_balance(\"KRW\")\n",
    "up_asset = first_up_asset - first_up_asset * 0.0005  # 계좌 현금 확인\n",
    "up_asset = up_asset - up_asset * 0.0005  # 수수료 보정치\n",
    "print(up_asset, \"업비드 자본(수수료 제외)\")"
   ]
  },
  {
   "cell_type": "code",
   "execution_count": 8,
   "metadata": {
    "scrolled": false
   },
   "outputs": [
    {
     "name": "stdout",
     "output_type": "stream",
     "text": [
      "바이낸스 선물계좌 달러 잔고 확인: 116.60205093\n",
      "153620.0305244897 원 바이낸스 자본(조정 전)\n"
     ]
    }
   ],
   "source": [
    "\n",
    "\n",
    "\n",
    "# 바이낸스 선물계좌 달러 확인\n",
    "# bin_fu_ass = 360\n",
    "bin_fu_ass = float(next((item for item in client.futures_account()['assets'] if item['asset'] == 'USDT'), None)['walletBalance'])\n",
    "print(\"바이낸스 선물계좌 달러 잔고 확인:\", bin_fu_ass)\n",
    "\n",
    "first_bin_fu_ass = bin_fu_ass\n",
    "bin_fu_ass = bin_fu_ass - bin_fu_ass * 0.0004\n",
    "binance_asset = bin_fu_ass * Usdt\n",
    "print(binance_asset, \"원 바이낸스 자본(조정 전)\")\n",
    "\n",
    "\n",
    "\n",
    "# @ 수수료들 가져오기 ex)client.get_trade_fee()\n",
    "# @ 나중에 수수료 부분다 고치기\n",
    "# up_market_fee = 0.0005\n",
    "# bin_spot_market_fee = 0.001\n",
    "# bin_future_market_fee = 0.0004\n",
    "up_market_fee = float(upbit.get_chance(\"KRW-ETC\")[\"maker_bid_fee\"]) # 업비트 코인 현물 시장가 #taker,maker 동일해서 그런지 이것만 존재. @ # 다른 (코인)정보로 받아도 됨\n",
    "bin_fees = binance_fu.fees\n",
    "bin_spot_market_fee = bin_fees[\"trading\"]['taker'] # 바이낸스 현물 시장가 수수료 #taker는 시장가   # maker 0.1% taker 0.1% # 0.001\n",
    "bin_future_market_fee = bin_fees[\"future\"][\"trading\"][\"taker\"] # 바이낸스 선물 시장가 수수료 #taker는 시장가 \n",
    "bin_Coin_M_future_market_fee = bin_fees[\"delivery\"][\"trading\"][\"taker\"] # 바이낸스 선물 coin-m 시장가 수수료 #taker는 시장가 \n",
    "\n",
    "\n",
    "##########################제거할 심볼먕###############################\n",
    "# if (sym_name[i] == 'CHZ' or sym_name[i] == 'ETH' or sym_name[i] == 'ANKR' or sym_name[i] == 'LINK' or sym_name[i] == 'BAT' or sym_name[i] == 'SXP' or sym_name[i] == 'ETC'):\n",
    "#     sym_name[i] = 'remove'\n",
    "# ###@@@ 이더리움 코인 배제 이 부분 로직으로 대체 가능\n",
    "# if (sym_name[i] == 'OMG' or sym_name[i] == 'MANA' or sym_name[i] == 'ZRX' or sym_name[i] == 'ENJ' or sym_name[i] == 'STORJ' or sym_name[i] == 'KNC' or sym_name[i] == 'SRM' or sym_name[i] == 'SAND' or sym_name[i] == 'CVC'):\n",
    "#     sym_name[i] = 'remove'\n",
    "# if (sym_name[i] == 'NEO' or sym_name[i] == 'BCH' or sym_name[i] == 'SC' or sym_name[i] == 'QTUM'):  ##@@이거 나중에 지우기.BCH는 전송시간이 오래걸리고 NEO는 소수점이 극혐임.(코인은 비싼대 소수점 이 )#SC코인은 전송시간 너무김 퀀텀도 전송시간 너무 김\n",
    "#     sym_name[i] = 'remove'\n",
    "ban_list = ['CHZ','ETH','ANKR','LINK','BAT','SXP','ETC','OMG','MANA','ZRX','ENJ','STORJ','KNC','SRM','SRM','SAND','CVC','NEO','BCH','SC','QTUM']\n",
    "##########################제거할 심볼먕 끝###############################\n",
    "\n",
    "\n",
    "#업비트에서 출금가능 바이낸스에서 입금가능 #업 => 바\n",
    "\n",
    "# sym_name = sym_intersection()  # 업비트 현물 , 바이낸스 현물 , 바이낸스 선물의 교집합을 가진 심볼명만 가져옴\n",
    "# Usdt = upbit_get_usd_krw()  # 업비트에서 1달러당 환율 가져옴\n",
    "# all_coin_info = client_spot.coin_info()  # 코인 정보를 전부 한번만 가져와서 저장함\n",
    "# sym_name = delet_None_network(all_coin_info, sym_name)  # 코인 스스로 전송 불가능 한 코인은 제외(바이낸스 체인 ,bnb만 전송가능한코인)\n",
    "# sym_name = del_bin_disable_deopsit(all_coin_info, sym_name)  #바이낸스 입금 불가능 코인 삭제\n",
    "# time.sleep(1)\n",
    "# sym_name = del_up_disable_whthdraw(sym_name)#업비트 출금 불가능 심볼 삭제\n",
    "\n",
    "# ##!!!!!처음 사용자는 아래코드 주석처리 없이 실행하고 여기서 주소 가져다가 써야함!!!!!!\n",
    "# regester_by_upbit_withdrow_addres(sym_name)#업비트 오류방지 !! 필요"
   ]
  },
  {
   "cell_type": "code",
   "execution_count": 9,
   "metadata": {},
   "outputs": [],
   "source": [
    "\n",
    "def regester_by_upbit_withdrow_addres(sym_name):\n",
    "    error_sym_name = []\n",
    "    for i in range(len(sym_name)):\n",
    "#         print(sym_name[i])\n",
    "        try:\n",
    "            bin_address = client_spot.deposit_address(sym_name[i])['address']\n",
    "            bin_Memo = client_spot.deposit_address(sym_name[i])['tag']\n",
    "            time.sleep(0.1)\n",
    "            print(sym_name[i])\n",
    "            print('bin_address', bin_address)\n",
    "            print('bin_Memo', bin_Memo)\n",
    "        except:\n",
    "            print(sym_name[i],\"바이낸스 지갑이 닫혔을 수도 있음\")\n",
    "            error_sym_name.append(sym_name[i])\n",
    "    return error_sym_name"
   ]
  },
  {
   "cell_type": "markdown",
   "metadata": {},
   "source": [
    "주소 입력 새로 갱신해야 할때 대비(곂치는 심볼들 추가시)"
   ]
  },
  {
   "cell_type": "code",
   "execution_count": 10,
   "metadata": {},
   "outputs": [
    {
     "name": "stdout",
     "output_type": "stream",
     "text": [
      "54 54\n"
     ]
    }
   ],
   "source": [
    "sym_name = sym_intersection()  # 업비트 현물 , 바이낸스 현물 , 바이낸스 선물의 교집합을 가진 심볼명만 가져옴\n",
    "all_coin_info = client_spot.coin_info()  # 코인 정보를 전부 한번만 가져와서 저장함\n",
    "sym_name = delet_None_network(all_coin_info, sym_name)"
   ]
  },
  {
   "cell_type": "code",
   "execution_count": 11,
   "metadata": {},
   "outputs": [],
   "source": [
    "import pickle\n",
    "try: \n",
    "    with open('regester_by_upbit.pickle', 'rb') as fr:\n",
    "        regester_by_upbit = pickle.load(fr)\n",
    "        past_sym_name = regester_by_upbit[\"past_sym_name\"]\n",
    "except:\n",
    "    regester_by_upbit={}\n",
    "    past_sym_name = regester_by_upbit['past_sym_name'] = []\n",
    "    \n",
    "    "
   ]
  },
  {
   "cell_type": "code",
   "execution_count": 12,
   "metadata": {},
   "outputs": [],
   "source": [
    "def del_bin_disable_withdrow_deopsit(all_coin_info, sym_name):\n",
    "    delet_list = []\n",
    "    delet_list_append = delet_list.append\n",
    "    for i in range(len(sym_name)):  # 바이낸스에서 입금 가능 , 전송 불가능\n",
    "        depositEnable, withdrawEnable = bin_coin_withdrow_deopsit_Enable(all_coin_info, sym_name[i])\n",
    "        #         print(sym_name[i],depositEnable,withdrawEnable)\n",
    "        if (depositEnable == False or withdrawEnable == False):\n",
    "            delet_list_append(sym_name[i])\n",
    "    name = list(set(sym_name) - set(delet_list))\n",
    "    return name\n",
    "def bin_coin_withdrow_deopsit_Enable(all_coin_info, sym_name):\n",
    "    try: #자기자신의 네트워크를 가지고, 현재 바이낸스의 입출금 가능상태를 가져옴\n",
    "        aa = next((item for item in all_coin_info if item['coin'] == sym_name), None)['networkList']\n",
    "        bb = next((item for item in aa if item['network'] == sym_name), None)\n",
    "        depositEnable, withdrawEnable = bb['depositEnable'] , bb['withdrawEnable']\n",
    "    except:\n",
    "        depositEnable, withdrawEnable = False ,False\n",
    "\n",
    "    return depositEnable, withdrawEnable\n"
   ]
  },
  {
   "cell_type": "code",
   "execution_count": 14,
   "metadata": {
    "scrolled": false
   },
   "outputs": [
    {
     "name": "stdout",
     "output_type": "stream",
     "text": [
      "해당 주소 업비트 출금 주소에 등록할 것\n",
      "주소가 등록되지 않는 심볼들은 메모해두고 error_sym_name에 추가할 것.\n",
      "('1. 업비트 로그인', '2. 마이페이지3. open API 관리4. 디지털 자산 출금주소 관리5. 코인명 심볼 검색 6. 출금주소 입력 ')\n",
      "54 54\n",
      "QTUM\n",
      "bin_address QWgUuYRGqDVA5fKH8z8KamgQe7KeBqHi8t\n",
      "bin_Memo \n",
      "AVAX\n",
      "bin_address X-avax1pnmmwjfqtgfz645eetkyvn44szqsfzd59fvw44\n",
      "bin_Memo \n",
      "NEO\n",
      "bin_address AGb3RDoi1jonwH9f2nB4WK3KJQMCxAazNe\n",
      "bin_Memo \n",
      "SC\n",
      "bin_address 73cd03db499a6af93128ddd13f4437bd6263fdd928d74e13deb34055a82fa253ac6312fd6e03\n",
      "bin_Memo \n"
     ]
    }
   ],
   "source": [
    "print(\"해당 주소 업비트 출금 주소에 등록할 것\")\n",
    "print(\"주소가 등록되지 않는 심볼들은 메모해두고 error_sym_name에 추가할 것.\")\n",
    "str_RRR = (\"1. 업비트 로그인\",\n",
    "           '2. 마이페이지'\n",
    "           '3. open API 관리'\n",
    "           '4. 디지털 자산 출금주소 관리'\n",
    "           '5. 코인명 심볼 검색 '\n",
    "           '6. 출금주소 입력 '\n",
    "           )\n",
    "print(str_RRR)\n",
    "\n",
    "# sym_name = sym_intersection() \n",
    "\n",
    "# 업비트에서 출금가능 바이낸스에서 입금가능 #업 => 바\n",
    "sym_name = sym_intersection()  # 업비트 현물 , 바이낸스 현물 , 바이낸스 선물의 교집합을 가진 심볼명만 가져옴\n",
    "Usdt = upbit_get_usd_krw()  # 업비트에서 1달러당 환율 가져옴\n",
    "all_coin_info = client_spot.coin_info()  # 코인 정보를 전부 한번만 가져와서 저장함\n",
    "sym_name = delet_None_network(all_coin_info, sym_name)  # 코인 스스로 전송 불가능 한 코인은 제외(바이낸스 체인 ,bnb만 전송가능한코인)\n",
    "sym_name = del_bin_disable_withdrow_deopsit(all_coin_info, sym_name)  # 바이낸스 입출금 불가능 심볼 삭제\n",
    "\n",
    "s3 = list(set(sym_name) - set(past_sym_name))\n",
    "error_sym_name = regester_by_upbit_withdrow_addres(s3)#업비트 오류방지 !! 필요"
   ]
  },
  {
   "cell_type": "code",
   "execution_count": 56,
   "metadata": {},
   "outputs": [],
   "source": []
  },
  {
   "cell_type": "code",
   "execution_count": 15,
   "metadata": {},
   "outputs": [
    {
     "name": "stdout",
     "output_type": "stream",
     "text": [
      "['NEO', 'AVAX', 'QTUM']\n"
     ]
    }
   ],
   "source": [
    "error_sym_name = [\"AVAX\",\"NEO\",\"QTUM\"] # 전송 불가 심볼명 추가.\n",
    "# error_sym_name.append('AVAX')\n",
    "# error_sym_name.append('NEO')\n",
    "error_sym_name = list(set(error_sym_name))\n",
    "print(error_sym_name)\n",
    "\n",
    "s3 = list(set(sym_name) - set(error_sym_name))"
   ]
  },
  {
   "cell_type": "code",
   "execution_count": null,
   "metadata": {},
   "outputs": [],
   "source": []
  },
  {
   "cell_type": "code",
   "execution_count": 16,
   "metadata": {},
   "outputs": [
    {
     "name": "stdout",
     "output_type": "stream",
     "text": [
      "입출금 등록이 안되었던 심볼명들 확인 {'coin': 'NEO', 'address': 'AGb3RDoi1jonwH9f2nB4WK3KJQMCxAazNe', 'tag': '', 'url': 'https://neoscan.io/address/AGb3RDoi1jonwH9f2nB4WK3KJQMCxAazNe'}\n",
      "입출금 등록이 안되었던 심볼명들 확인 {'coin': 'AVAX', 'address': 'X-avax1pnmmwjfqtgfz645eetkyvn44szqsfzd59fvw44', 'tag': '', 'url': 'https://explorer.avax.network/address/X-avax1pnmmwjfqtgfz645eetkyvn44szqsfzd59fvw44'}\n",
      "입출금 등록이 안되었던 심볼명들 확인 {'coin': 'QTUM', 'address': 'QWgUuYRGqDVA5fKH8z8KamgQe7KeBqHi8t', 'tag': '', 'url': 'https://qtum.info/address/QWgUuYRGqDVA5fKH8z8KamgQe7KeBqHi8t'}\n",
      "입출금 주소 등록이 되는 심볼들 확인 30 개 ['ETH', 'MATIC', 'DOGE', 'ADA', 'VET', 'BTC', 'THETA', 'TRX', 'IOTA', 'BCH', 'FLOW', 'ICX', 'XRP', 'XLM', 'ETC', 'ZIL', 'WAVES', 'XTZ', 'XEM', 'NEAR', 'IOST', 'EOS', 'ONT', 'ATOM', 'HBAR', 'DOT', 'ALGO', 'CELO', 'KAVA', 'SOL']\n"
     ]
    }
   ],
   "source": [
    "for i in range(len(error_sym_name)):\n",
    "    print(\"입출금 등록이 안되었던 심볼명들 확인\",client_spot.deposit_address(error_sym_name[i]))\n",
    "print(\"입출금 주소 등록이 되는 심볼들 확인\",len(s3),\"개\",s3)    "
   ]
  },
  {
   "cell_type": "markdown",
   "metadata": {},
   "source": [
    "## 아래의 코드는 업비트에 출금주소 등록 한 후에 실행할 것!!"
   ]
  },
  {
   "cell_type": "markdown",
   "metadata": {},
   "source": [
    "업비트 출금주소 등록 실패시 일단 해당 심볼은 사용하지 않고 진행하도록 할것."
   ]
  },
  {
   "cell_type": "code",
   "execution_count": 17,
   "metadata": {},
   "outputs": [
    {
     "name": "stdout",
     "output_type": "stream",
     "text": [
      "{'past_sym_name': ['ETH', 'MATIC', 'DOGE', 'ADA', 'VET', 'BTC', 'THETA', 'TRX', 'IOTA', 'BCH', 'FLOW', 'ICX', 'XRP', 'XLM', 'ETC', 'ZIL', 'WAVES', 'XTZ', 'XEM', 'NEAR', 'IOST', 'EOS', 'ONT', 'ATOM', 'HBAR', 'DOT', 'ALGO', 'CELO', 'KAVA', 'SOL']} 30\n"
     ]
    }
   ],
   "source": [
    "\n",
    "for i in range(len(s3)):\n",
    "    past_sym_name.append(s3[i])\n",
    "\n",
    "past_sym_name = list(set(past_sym_name))\n",
    "\n",
    "regester_by_upbit[\"past_sym_name\"] = past_sym_name\n",
    "with open('regester_by_upbit.pickle','wb') as fw:\n",
    "    pickle.dump(regester_by_upbit, fw)\n",
    "    \n",
    "print( regester_by_upbit, len(regester_by_upbit['past_sym_name']))"
   ]
  },
  {
   "cell_type": "code",
   "execution_count": null,
   "metadata": {},
   "outputs": [],
   "source": []
  },
  {
   "cell_type": "code",
   "execution_count": null,
   "metadata": {},
   "outputs": [],
   "source": []
  },
  {
   "cell_type": "code",
   "execution_count": null,
   "metadata": {},
   "outputs": [],
   "source": []
  },
  {
   "cell_type": "markdown",
   "metadata": {},
   "source": [
    "## 아래의 코드는 바이낸스에 출금주소 등록 한 후에 실행할 것!!"
   ]
  },
  {
   "cell_type": "code",
   "execution_count": null,
   "metadata": {},
   "outputs": [],
   "source": []
  },
  {
   "cell_type": "code",
   "execution_count": 18,
   "metadata": {},
   "outputs": [],
   "source": [
    "import pickle\n",
    "try:\n",
    "    with open('regester_by_binance.pickle', 'rb') as fr:\n",
    "        regester_by_binance = pickle.load(fr)\n",
    "        past_sym_name = regester_by_binance[\"past_sym_name\"]\n",
    "except:\n",
    "    regester_by_binance={}\n",
    "    past_sym_name = regester_by_binance['past_sym_name'] = []\n",
    "    \n",
    "    "
   ]
  },
  {
   "cell_type": "code",
   "execution_count": 19,
   "metadata": {},
   "outputs": [],
   "source": [
    "# 업비트 입금주소 요청\n",
    "def up_deposit_address_request(send_to_up_optimal_simbol):\n",
    "    query = {'currency': send_to_up_optimal_simbol, }\n",
    "    query_string = urlencode(query).encode()\n",
    "\n",
    "    m = hashlib.sha512()\n",
    "    m.update(query_string)\n",
    "    query_hash = m.hexdigest()\n",
    "\n",
    "    payload = {'access_key': access_key,\n",
    "               'nonce': str(uuid.uuid4()),\n",
    "               'query_hash': query_hash,\n",
    "               'query_hash_alg': 'SHA512', }\n",
    "\n",
    "    jwt_token = jwt.encode(payload, secret_key)\n",
    "    authorize_token = 'Bearer {}'.format(jwt_token)\n",
    "    headers = {\"Authorization\": authorize_token}\n",
    "\n",
    "    res = requests.post(server_url + \"/v1/deposits/generate_coin_address\", params=query,\n",
    "                        headers=headers)\n",
    "    up_add = res.json()['deposit_address']\n",
    "    up_seadd = res.json()['secondary_address']\n",
    "    return up_add, up_seadd"
   ]
  },
  {
   "cell_type": "code",
   "execution_count": 20,
   "metadata": {},
   "outputs": [],
   "source": [
    "\n",
    "def regester_by_bin_withdrow_addres(sym_name):\n",
    "    error_sym_name = []\n",
    "    for i in range(len(sym_name)):\n",
    "#         print(sym_name[i])\n",
    "        try:\n",
    "            up_add, up_seadd = up_deposit_address_request(sym_name[i])\n",
    "\n",
    "            time.sleep(0.5)\n",
    "            print(sym_name[i])\n",
    "            print('up_add', up_add)\n",
    "            print('up_seadd(memo)', up_seadd)\n",
    "        except:\n",
    "            print(sym_name[i],\"바이낸스 지갑이 닫혔을 수도 있음\")\n",
    "            error_sym_name.append(sym_name[i])\n",
    "    return error_sym_name"
   ]
  },
  {
   "cell_type": "code",
   "execution_count": 21,
   "metadata": {
    "scrolled": false
   },
   "outputs": [
    {
     "name": "stdout",
     "output_type": "stream",
     "text": [
      "해당 주소 업비트 출금 주소에 등록할 것\n",
      "('1. 바이낸스 로그인', '2. 마이페이지3. open API 관리4. 디지털 자산 출금주소 관리5. 코인명 심볼 검색 6. 출금주소 입력 ')\n",
      "54 54\n",
      "ETH\n",
      "up_add 0x75129d194040390522a9792f6ba638cbaab45679\n",
      "up_seadd(memo) None\n",
      "MATIC\n",
      "up_add 0x75129d194040390522a9792f6ba638cbaab45679\n",
      "up_seadd(memo) None\n",
      "DOGE\n",
      "up_add DMf1J16xuS82AQgjVVEWteDhn4LokEE31t\n",
      "up_seadd(memo) None\n",
      "ADA\n",
      "up_add DdzFFzCqrhssVvydrZzUZcEZS1WDuK8CDL9FpzZVM717frm1a9hCTPjcCKhbMzDt5Pef5qLP24bAjrABrsCywgN8gmxBMmC9BvSNouWd\n",
      "up_seadd(memo) None\n",
      "VET\n",
      "up_add 0x140415c677777624a8bed8821e5a04be08b59652\n",
      "up_seadd(memo) None\n",
      "BTC\n",
      "up_add 3JKodEqtbAv9TS4zCdgCTorcvXXowM8pTY\n",
      "up_seadd(memo) None\n",
      "THETA\n",
      "up_add 0x774B435e330c96Ce6d92247b58e454Cc6a503ba5\n",
      "up_seadd(memo) None\n",
      "TRX\n",
      "up_add TURZGfd1ijw2oGGzwCp6rQbtJUv2Sg6pqq\n",
      "up_seadd(memo) None\n",
      "NEO\n",
      "up_add Na4qk8WCpfkSLM969F43D6hmC8Dm2wLLGN\n",
      "up_seadd(memo) None\n",
      "IOTA\n",
      "up_add iota1qp4egml3y9ugm62svcchv3jf4d0yjqkh9dtk25wm4p3vptcfnn46wu4nwhk\n",
      "up_seadd(memo) None\n",
      "BCH\n",
      "up_add bitcoincash:qzhzcpd9khdtqdem5u5hupnchj74l2kgwsx5rjs7ya\n",
      "up_seadd(memo) None\n",
      "FLOW\n",
      "up_add 0x7a531ddf563a8ed5\n",
      "up_seadd(memo) None\n",
      "ICX\n",
      "up_add hxace65963ac7223e9d119cb66aaeb680ad9f7eb03\n",
      "up_seadd(memo) None\n",
      "XRP\n",
      "up_add raQwCVAJVqjrVm1Nj5SFRcX8i22BhdC9WA\n",
      "up_seadd(memo) 1914350254\n",
      "QTUM 바이낸스 지갑이 닫혔을 수도 있음\n",
      "XLM\n",
      "up_add GCZLCMUM4Q4H324CTT3753P6656CYR4KPLHYFPGYPGE6JVHONGLNRDI5\n",
      "up_seadd(memo) LjVD1580473203457\n",
      "ETC\n",
      "up_add 0x4bb621838e445eac0a5fb30a1ffee63192d703d7\n",
      "up_seadd(memo) None\n",
      "ZIL\n",
      "up_add zil1hpk3ay59jky8q0ggfdz28dlj867teavlqn5dae\n",
      "up_seadd(memo) None\n",
      "WAVES\n",
      "up_add 3P8XV2d3VRJuEDsEYeshrk94nE6Scmjxrm6\n",
      "up_seadd(memo) None\n",
      "XTZ\n",
      "up_add tz1hcDhzMqGfTGHK6dTAYEvhDLqdotsA9td1\n",
      "up_seadd(memo) None\n",
      "XEM\n",
      "up_add ND72SWJGHA7L7ECKIGWE5GLPSN5PYR6S3GZZOQBC\n",
      "up_seadd(memo) a876bac6-df46-4889-be5f-0cc05be508ae\n",
      "NEAR\n",
      "up_add 0e7d0ec539a864e93943502914faac3b7eacb945723ecedb4770ff429babb291\n",
      "up_seadd(memo) None\n",
      "IOST\n",
      "up_add user_dunamu\n",
      "up_seadd(memo) a18efccd2c8e217a\n",
      "EOS\n",
      "up_add eosupbitsusr\n",
      "up_seadd(memo) 9d5051c7-26d7-4ff8-8154-f16727f749be\n",
      "ONT\n",
      "up_add Aewt6HYR3g9fhKmUcAw4DTH7trpb8hYUKC\n",
      "up_seadd(memo) None\n",
      "ATOM\n",
      "up_add cosmos1hjyde2kfgtl78twvhs53u5j2gcsxrt649nn8j5\n",
      "up_seadd(memo) 321830f4aa8573af\n",
      "HBAR\n",
      "up_add 0.0.37073\n",
      "up_seadd(memo) 9f4cab086b8d33dc\n",
      "DOT\n",
      "up_add 14zxtXGTmNxfzNHtdi7kLB4ma5ugD5immoV5o52ZAJkidWa1\n",
      "up_seadd(memo) None\n",
      "ALGO\n",
      "up_add SH7TWNZ2K6RVZRGG3YNRFFSUQF2BO4QJPPEK4HAWXGGX4QQDUFUOEGQXHE\n",
      "up_seadd(memo) None\n",
      "CELO\n",
      "up_add 0xe6578ac464db13667ca7cb3ef92abcd82c844232\n",
      "up_seadd(memo) None\n",
      "KAVA\n",
      "up_add kava16lmseu3ufkg3ec2xuulnmkdtq8phn60kz0a57r\n",
      "up_seadd(memo) 5e29814cb57aa388\n",
      "SOL 바이낸스 지갑이 닫혔을 수도 있음\n",
      "AVAX\n",
      "up_add 0x4f2f346ce69c0bfd21fca2dd37203f74cec44cd5\n",
      "up_seadd(memo) None\n"
     ]
    }
   ],
   "source": [
    "print(\"해당 주소 업비트 출금 주소에 등록할 것\")\n",
    "str_RRR = (\"1. 바이낸스 로그인\",\n",
    "           '2. 마이페이지'\n",
    "           '3. open API 관리'\n",
    "           '4. 디지털 자산 출금주소 관리'\n",
    "           '5. 코인명 심볼 검색 '\n",
    "           '6. 출금주소 입력 '\n",
    "           )\n",
    "print(str_RRR)\n",
    "\n",
    "# sym_name = sym_intersection() \n",
    "\n",
    "# 업비트에서 출금가능 바이낸스에서 입금가능 #업 => 바\n",
    "sym_name = sym_intersection()  # 업비트 현물 , 바이낸스 현물 , 바이낸스 선물의 교집합을 가진 심볼명만 가져옴\n",
    "Usdt = upbit_get_usd_krw()  # 업비트에서 1달러당 환율 가져옴\n",
    "all_coin_info = client_spot.coin_info()  # 코인 정보를 전부 한번만 가져와서 저장함\n",
    "sym_name = delet_None_network(all_coin_info, sym_name)  # 코인 스스로 전송 불가능 한 코인은 제외(바이낸스 체인 ,bnb만 전송가능한코인)\n",
    "sym_name = del_bin_disable_withdrow_deopsit(all_coin_info, sym_name)  # 바이낸스 입출금 불가능 심볼 삭제\n",
    "\n",
    "s3 = list(set(sym_name) - set(past_sym_name))\n",
    "error_sym_name = regester_by_bin_withdrow_addres(s3)#업비트 오류방지 !! 필요\n",
    "s3 = list(set(sym_name) - set(error_sym_name))\n"
   ]
  },
  {
   "cell_type": "code",
   "execution_count": 22,
   "metadata": {},
   "outputs": [
    {
     "name": "stdout",
     "output_type": "stream",
     "text": [
      "['SOL', 'QTUM']\n"
     ]
    }
   ],
   "source": [
    "# error_sym_name = [\"AVAX\",\"NEO\",\"QTUM\",\"NEO\"] # 전송 불가 심볼명 추가.\n",
    "# error_sym_name.append('AVAX')\n",
    "# error_sym_name.append('NEO')\n",
    "error_sym_name = list(set(error_sym_name))\n",
    "print(error_sym_name)\n",
    "\n",
    "s3 = list(set(sym_name) - set(error_sym_name))\n",
    "\n"
   ]
  },
  {
   "cell_type": "code",
   "execution_count": 23,
   "metadata": {},
   "outputs": [
    {
     "name": "stdout",
     "output_type": "stream",
     "text": [
      "입출금 등록이 안되었던 심볼명들 확인 {'coin': 'SOL', 'address': 'EgZykHdGs1wEpjfduBYrA5bUrZZuPaqtstECQA8D1cBh', 'tag': '', 'url': 'https://explorer.solana.com/address/EgZykHdGs1wEpjfduBYrA5bUrZZuPaqtstECQA8D1cBh'}\n",
      "입출금 등록이 안되었던 심볼명들 확인 {'coin': 'QTUM', 'address': 'QWgUuYRGqDVA5fKH8z8KamgQe7KeBqHi8t', 'tag': '', 'url': 'https://qtum.info/address/QWgUuYRGqDVA5fKH8z8KamgQe7KeBqHi8t'}\n",
      "입출금 주소 등록이 되는 심볼들 확인 31 개 ['ETH', 'MATIC', 'DOGE', 'ADA', 'VET', 'BTC', 'THETA', 'TRX', 'NEO', 'IOTA', 'BCH', 'FLOW', 'ICX', 'XRP', 'XLM', 'ETC', 'ZIL', 'WAVES', 'XTZ', 'XEM', 'NEAR', 'IOST', 'EOS', 'ONT', 'ATOM', 'HBAR', 'DOT', 'ALGO', 'CELO', 'KAVA', 'AVAX']\n"
     ]
    }
   ],
   "source": [
    "for i in range(len(error_sym_name)):\n",
    "    print(\"입출금 등록이 안되었던 심볼명들 확인\",client_spot.deposit_address(error_sym_name[i]))\n",
    "print(\"입출금 주소 등록이 되는 심볼들 확인\",len(s3),\"개\",s3)    "
   ]
  },
  {
   "cell_type": "markdown",
   "metadata": {},
   "source": [
    "### 바이낸스 출금주소 등록 후 사용"
   ]
  },
  {
   "cell_type": "code",
   "execution_count": 69,
   "metadata": {},
   "outputs": [
    {
     "name": "stdout",
     "output_type": "stream",
     "text": [
      "{'past_sym_name': []} 0\n"
     ]
    }
   ],
   "source": [
    "for i in range(len(s3)):\n",
    "    past_sym_name.append(s3[i])\n",
    "\n",
    "past_sym_name = list(set(past_sym_name))\n",
    "\n",
    "regester_by_binance[\"past_sym_name\"] = past_sym_name\n",
    "\n",
    "with open('regester_by_binance.pickle','wb') as fw:\n",
    "    pickle.dump(regester_by_binance, fw)\n",
    "    \n",
    "print( regester_by_binance, len(regester_by_binance['past_sym_name']))"
   ]
  }
 ],
 "metadata": {
  "kernelspec": {
   "display_name": "Python 3 (ipykernel)",
   "language": "python",
   "name": "python3"
  },
  "language_info": {
   "codemirror_mode": {
    "name": "ipython",
    "version": 3
   },
   "file_extension": ".py",
   "mimetype": "text/x-python",
   "name": "python",
   "nbconvert_exporter": "python",
   "pygments_lexer": "ipython3",
   "version": "3.9.12"
  }
 },
 "nbformat": 4,
 "nbformat_minor": 4
}
